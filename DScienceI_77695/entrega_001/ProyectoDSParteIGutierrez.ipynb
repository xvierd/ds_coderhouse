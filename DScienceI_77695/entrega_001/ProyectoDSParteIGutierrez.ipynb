{
 "cells": [
  {
   "cell_type": "markdown",
   "metadata": {},
   "source": [
    "# Proyecto Data Science - Parte I: Análisis de Datos de Publicidad en Redes Sociales\n",
    "\n",
    "**Autor:** Xavier Gutierrez  \n",
    "**Fecha:** Septiembre 2025  \n",
    "**Curso:** CoderHouse - Data Science I  \n",
    "**Comisión:** 77695\n",
    "\n",
    "**Fuente de datos:** [Social Media Advertisement Performance Dataset](https://www.kaggle.com/datasets/alperenmyung/social-media-advertisement-performance?select=ad_events.csv)\n",
    "\n",
    "**Nota sobre la fuente:** El archivo `ad_campaign_db.sqlite` incluido en el dataset de Kaggle fue fundamental para entender las relaciones entre las tablas, lo que facilitó la realización de los merge entre los diferentes archivos CSV.\n",
    "\n",
    "---"
   ]
  },
  {
   "cell_type": "markdown",
   "metadata": {},
   "source": [
    "## 1. Abstract\n",
    "\n",
    "Este proyecto utiliza un dataset de publicidad en redes sociales con cuatro tablas relacionadas: eventos de usuarios con anuncios (`ad_events`), información de anuncios (`ads`), campañas publicitarias (`campaigns`) y datos demográficos de usuarios (`users`). \n",
    "\n",
    "El objetivo principal es responder preguntas simples sobre el comportamiento publicitario utilizando herramientas de estadística básica y visualizaciones claras con pandas y matplotlib. \n",
    "\n",
    "La metodología incluye: limpieza y unificación de datos, análisis de distribuciones, comparaciones por género, evaluación de efectividad por horarios y análisis de desempeño por campañas y plataformas. \n",
    "\n",
    "Esta base descriptiva servirá como fundamento para futuros trabajos de predicción de CTR (Click-Through Rate) o segmentación avanzada de audiencias.\n",
    "\n",
    "**Nota del estudiante:** Este es mi primer análisis completo de datos publicitarios. Me enfocaré en hacer cada paso claro y bien documentado."
   ]
  },
  {
   "cell_type": "markdown",
   "metadata": {},
   "source": [
    "## 2. Preguntas / Hipótesis de Interés\n",
    "\n",
    "Las siguientes preguntas guiarán nuestro análisis exploratorio:\n",
    "\n",
    "1. **¿Cómo se distribuyen los tipos de evento?** - Esperamos ver un embudo típico: muchas impresiones, menos clics.\n",
    "\n",
    "2. **¿Cuál es la edad promedio de quienes interactúan?** - Hipótesis: usuarios entre 25-35 años son más activos.\n",
    "\n",
    "3. **¿Cambian las proporciones por género según el tipo de evento?** - Queremos ver si hay diferencias en comportamiento.\n",
    "\n",
    "4. **¿Qué campañas concentran más interacción y cuál es su CTR?** - Distinguir volumen vs eficiencia.\n",
    "\n",
    "5. **¿Qué franja horaria tiene mejor CTR?** - Optimizar timing de anuncios.\n",
    "\n",
    "6. **¿Qué plataformas muestran mejor balance entre volumen y CTR?** - Decisiones de inversión por canal."
   ]
  },
  {
   "cell_type": "markdown",
   "metadata": {},
   "source": [
    "## 3. Carga de Datos y Mini Diccionario\n",
    "\n",
    "### 3.1 Configuración inicial y funciones auxiliares"
   ]
  },
  {
   "cell_type": "code",
   "execution_count": 1,
   "metadata": {},
   "outputs": [
    {
     "name": "stdout",
     "output_type": "stream",
     "text": [
      "Librerías cargadas correctamente\n",
      "Directorio de trabajo: /Users/xavier.gutierrez/coderhouse_datascience_I/primera entrega\n"
     ]
    }
   ],
   "source": [
    "import os\n",
    "import pandas as pd\n",
    "import numpy as np\n",
    "import matplotlib.pyplot as plt\n",
    "from datetime import datetime\n",
    "\n",
    "def p(filename):\n",
    "    \"\"\"Genera ruta relativa hacia archivos en la carpeta storage/\"\"\"\n",
    "    return os.path.join(\".\", \"storage\", filename)\n",
    "\n",
    "plt.rcParams['figure.figsize'] = (10, 6)\n",
    "print(\"Librerías cargadas correctamente\")\n",
    "print(f\"Directorio de trabajo: {os.getcwd()}\")"
   ]
  },
  {
   "cell_type": "markdown",
   "metadata": {},
   "source": [
    "### 3.2 Carga de archivos CSV"
   ]
  },
  {
   "cell_type": "code",
   "execution_count": 26,
   "metadata": {},
   "outputs": [
    {
     "name": "stdout",
     "output_type": "stream",
     "text": [
      "Cargando archivos CSV...\n",
      "Todos los archivos cargados exitosamente\n"
     ]
    }
   ],
   "source": [
    "print(\"Cargando archivos CSV...\")\n",
    "\n",
    "try:\n",
    "    ad_events = pd.read_csv(p(\"ad_events.csv\"))\n",
    "    ads = pd.read_csv(p(\"ads.csv\"))\n",
    "    campaigns = pd.read_csv(p(\"campaigns.csv\"))\n",
    "    users = pd.read_csv(p(\"users.csv\"))\n",
    "    print(\"Todos los archivos cargados exitosamente\")\n",
    "except FileNotFoundError as e:\n",
    "    print(f\"Error: {e}\")\n",
    "    print(\"Verifica que la carpeta 'storage/' existe y contiene los archivos CSV\")"
   ]
  },
  {
   "cell_type": "markdown",
   "metadata": {},
   "source": [
    "### 3.3 Exploración inicial de cada tabla"
   ]
  },
  {
   "cell_type": "code",
   "execution_count": 27,
   "metadata": {},
   "outputs": [
    {
     "name": "stdout",
     "output_type": "stream",
     "text": [
      "TABLA: ad_events\n",
      "Shape: (400000, 7)\n",
      "\n",
      "Primeras 3 filas:\n"
     ]
    },
    {
     "data": {
      "text/html": [
       "<div>\n",
       "<style scoped>\n",
       "    .dataframe tbody tr th:only-of-type {\n",
       "        vertical-align: middle;\n",
       "    }\n",
       "\n",
       "    .dataframe tbody tr th {\n",
       "        vertical-align: top;\n",
       "    }\n",
       "\n",
       "    .dataframe thead th {\n",
       "        text-align: right;\n",
       "    }\n",
       "</style>\n",
       "<table border=\"1\" class=\"dataframe\">\n",
       "  <thead>\n",
       "    <tr style=\"text-align: right;\">\n",
       "      <th></th>\n",
       "      <th>event_id</th>\n",
       "      <th>ad_id</th>\n",
       "      <th>user_id</th>\n",
       "      <th>timestamp</th>\n",
       "      <th>day_of_week</th>\n",
       "      <th>time_of_day</th>\n",
       "      <th>event_type</th>\n",
       "    </tr>\n",
       "  </thead>\n",
       "  <tbody>\n",
       "    <tr>\n",
       "      <th>0</th>\n",
       "      <td>1</td>\n",
       "      <td>197</td>\n",
       "      <td>2359b</td>\n",
       "      <td>2025-07-26 00:19:56</td>\n",
       "      <td>Saturday</td>\n",
       "      <td>Night</td>\n",
       "      <td>Like</td>\n",
       "    </tr>\n",
       "    <tr>\n",
       "      <th>1</th>\n",
       "      <td>2</td>\n",
       "      <td>51</td>\n",
       "      <td>f9c67</td>\n",
       "      <td>2025-06-15 08:28:07</td>\n",
       "      <td>Sunday</td>\n",
       "      <td>Morning</td>\n",
       "      <td>Share</td>\n",
       "    </tr>\n",
       "    <tr>\n",
       "      <th>2</th>\n",
       "      <td>3</td>\n",
       "      <td>46</td>\n",
       "      <td>5b868</td>\n",
       "      <td>2025-06-27 00:40:02</td>\n",
       "      <td>Friday</td>\n",
       "      <td>Night</td>\n",
       "      <td>Impression</td>\n",
       "    </tr>\n",
       "  </tbody>\n",
       "</table>\n",
       "</div>"
      ],
      "text/plain": [
       "   event_id  ad_id user_id            timestamp day_of_week time_of_day  \\\n",
       "0         1    197   2359b  2025-07-26 00:19:56    Saturday       Night   \n",
       "1         2     51   f9c67  2025-06-15 08:28:07      Sunday     Morning   \n",
       "2         3     46   5b868  2025-06-27 00:40:02      Friday       Night   \n",
       "\n",
       "   event_type  \n",
       "0        Like  \n",
       "1       Share  \n",
       "2  Impression  "
      ]
     },
     "metadata": {},
     "output_type": "display_data"
    },
    {
     "name": "stdout",
     "output_type": "stream",
     "text": [
      "\n",
      "Tipos de datos:\n",
      "event_id        int64\n",
      "ad_id           int64\n",
      "user_id        object\n",
      "timestamp      object\n",
      "day_of_week    object\n",
      "time_of_day    object\n",
      "event_type     object\n",
      "dtype: object\n"
     ]
    }
   ],
   "source": [
    "# Revisar estructura de ad_events\n",
    "print(\"TABLA: ad_events\")\n",
    "print(f\"Shape: {ad_events.shape}\")\n",
    "print(\"\\nPrimeras 3 filas:\")\n",
    "display(ad_events.head(3))\n",
    "print(\"\\nTipos de datos:\")\n",
    "print(ad_events.dtypes)"
   ]
  },
  {
   "cell_type": "code",
   "execution_count": 28,
   "metadata": {},
   "outputs": [
    {
     "name": "stdout",
     "output_type": "stream",
     "text": [
      "TABLA: ads\n",
      "Shape: (200, 7)\n",
      "\n",
      "Primeras 3 filas:\n"
     ]
    },
    {
     "data": {
      "text/html": [
       "<div>\n",
       "<style scoped>\n",
       "    .dataframe tbody tr th:only-of-type {\n",
       "        vertical-align: middle;\n",
       "    }\n",
       "\n",
       "    .dataframe tbody tr th {\n",
       "        vertical-align: top;\n",
       "    }\n",
       "\n",
       "    .dataframe thead th {\n",
       "        text-align: right;\n",
       "    }\n",
       "</style>\n",
       "<table border=\"1\" class=\"dataframe\">\n",
       "  <thead>\n",
       "    <tr style=\"text-align: right;\">\n",
       "      <th></th>\n",
       "      <th>ad_id</th>\n",
       "      <th>campaign_id</th>\n",
       "      <th>ad_platform</th>\n",
       "      <th>ad_type</th>\n",
       "      <th>target_gender</th>\n",
       "      <th>target_age_group</th>\n",
       "      <th>target_interests</th>\n",
       "    </tr>\n",
       "  </thead>\n",
       "  <tbody>\n",
       "    <tr>\n",
       "      <th>0</th>\n",
       "      <td>1</td>\n",
       "      <td>28</td>\n",
       "      <td>Facebook</td>\n",
       "      <td>Video</td>\n",
       "      <td>Female</td>\n",
       "      <td>35-44</td>\n",
       "      <td>art, technology</td>\n",
       "    </tr>\n",
       "    <tr>\n",
       "      <th>1</th>\n",
       "      <td>2</td>\n",
       "      <td>33</td>\n",
       "      <td>Facebook</td>\n",
       "      <td>Stories</td>\n",
       "      <td>All</td>\n",
       "      <td>25-34</td>\n",
       "      <td>travel, photography</td>\n",
       "    </tr>\n",
       "    <tr>\n",
       "      <th>2</th>\n",
       "      <td>3</td>\n",
       "      <td>20</td>\n",
       "      <td>Instagram</td>\n",
       "      <td>Carousel</td>\n",
       "      <td>All</td>\n",
       "      <td>25-34</td>\n",
       "      <td>technology</td>\n",
       "    </tr>\n",
       "  </tbody>\n",
       "</table>\n",
       "</div>"
      ],
      "text/plain": [
       "   ad_id  campaign_id ad_platform   ad_type target_gender target_age_group  \\\n",
       "0      1           28    Facebook     Video        Female            35-44   \n",
       "1      2           33    Facebook   Stories           All            25-34   \n",
       "2      3           20   Instagram  Carousel           All            25-34   \n",
       "\n",
       "      target_interests  \n",
       "0      art, technology  \n",
       "1  travel, photography  \n",
       "2           technology  "
      ]
     },
     "metadata": {},
     "output_type": "display_data"
    },
    {
     "name": "stdout",
     "output_type": "stream",
     "text": [
      "\n",
      "Tipos de datos:\n",
      "ad_id                int64\n",
      "campaign_id          int64\n",
      "ad_platform         object\n",
      "ad_type             object\n",
      "target_gender       object\n",
      "target_age_group    object\n",
      "target_interests    object\n",
      "dtype: object\n"
     ]
    }
   ],
   "source": [
    "print(\"TABLA: ads\")\n",
    "print(f\"Shape: {ads.shape}\")\n",
    "print(\"\\nPrimeras 3 filas:\")\n",
    "display(ads.head(3))\n",
    "print(\"\\nTipos de datos:\")\n",
    "print(ads.dtypes)"
   ]
  },
  {
   "cell_type": "code",
   "execution_count": 29,
   "metadata": {},
   "outputs": [
    {
     "name": "stdout",
     "output_type": "stream",
     "text": [
      "TABLA: campaigns\n",
      "Shape: (50, 6)\n",
      "\n",
      "Primeras 3 filas:\n"
     ]
    },
    {
     "data": {
      "text/html": [
       "<div>\n",
       "<style scoped>\n",
       "    .dataframe tbody tr th:only-of-type {\n",
       "        vertical-align: middle;\n",
       "    }\n",
       "\n",
       "    .dataframe tbody tr th {\n",
       "        vertical-align: top;\n",
       "    }\n",
       "\n",
       "    .dataframe thead th {\n",
       "        text-align: right;\n",
       "    }\n",
       "</style>\n",
       "<table border=\"1\" class=\"dataframe\">\n",
       "  <thead>\n",
       "    <tr style=\"text-align: right;\">\n",
       "      <th></th>\n",
       "      <th>campaign_id</th>\n",
       "      <th>name</th>\n",
       "      <th>start_date</th>\n",
       "      <th>end_date</th>\n",
       "      <th>duration_days</th>\n",
       "      <th>total_budget</th>\n",
       "    </tr>\n",
       "  </thead>\n",
       "  <tbody>\n",
       "    <tr>\n",
       "      <th>0</th>\n",
       "      <td>1</td>\n",
       "      <td>Campaign_1_Launch</td>\n",
       "      <td>2025-05-25</td>\n",
       "      <td>2025-07-23</td>\n",
       "      <td>59</td>\n",
       "      <td>24021.32</td>\n",
       "    </tr>\n",
       "    <tr>\n",
       "      <th>1</th>\n",
       "      <td>2</td>\n",
       "      <td>Campaign_2_Launch</td>\n",
       "      <td>2025-04-16</td>\n",
       "      <td>2025-07-07</td>\n",
       "      <td>82</td>\n",
       "      <td>79342.41</td>\n",
       "    </tr>\n",
       "    <tr>\n",
       "      <th>2</th>\n",
       "      <td>3</td>\n",
       "      <td>Campaign_3_Winter</td>\n",
       "      <td>2025-05-04</td>\n",
       "      <td>2025-06-29</td>\n",
       "      <td>56</td>\n",
       "      <td>14343.25</td>\n",
       "    </tr>\n",
       "  </tbody>\n",
       "</table>\n",
       "</div>"
      ],
      "text/plain": [
       "   campaign_id               name  start_date    end_date  duration_days  \\\n",
       "0            1  Campaign_1_Launch  2025-05-25  2025-07-23             59   \n",
       "1            2  Campaign_2_Launch  2025-04-16  2025-07-07             82   \n",
       "2            3  Campaign_3_Winter  2025-05-04  2025-06-29             56   \n",
       "\n",
       "   total_budget  \n",
       "0      24021.32  \n",
       "1      79342.41  \n",
       "2      14343.25  "
      ]
     },
     "metadata": {},
     "output_type": "display_data"
    },
    {
     "name": "stdout",
     "output_type": "stream",
     "text": [
      "\n",
      "Tipos de datos:\n",
      "campaign_id        int64\n",
      "name              object\n",
      "start_date        object\n",
      "end_date          object\n",
      "duration_days      int64\n",
      "total_budget     float64\n",
      "dtype: object\n"
     ]
    }
   ],
   "source": [
    "print(\"TABLA: campaigns\")\n",
    "print(f\"Shape: {campaigns.shape}\")\n",
    "print(\"\\nPrimeras 3 filas:\")\n",
    "display(campaigns.head(3))\n",
    "print(\"\\nTipos de datos:\")\n",
    "print(campaigns.dtypes)"
   ]
  },
  {
   "cell_type": "code",
   "execution_count": 30,
   "metadata": {},
   "outputs": [
    {
     "name": "stdout",
     "output_type": "stream",
     "text": [
      "TABLA: users\n",
      "Shape: (10000, 7)\n",
      "\n",
      "Primeras 3 filas:\n"
     ]
    },
    {
     "data": {
      "text/html": [
       "<div>\n",
       "<style scoped>\n",
       "    .dataframe tbody tr th:only-of-type {\n",
       "        vertical-align: middle;\n",
       "    }\n",
       "\n",
       "    .dataframe tbody tr th {\n",
       "        vertical-align: top;\n",
       "    }\n",
       "\n",
       "    .dataframe thead th {\n",
       "        text-align: right;\n",
       "    }\n",
       "</style>\n",
       "<table border=\"1\" class=\"dataframe\">\n",
       "  <thead>\n",
       "    <tr style=\"text-align: right;\">\n",
       "      <th></th>\n",
       "      <th>user_id</th>\n",
       "      <th>user_gender</th>\n",
       "      <th>user_age</th>\n",
       "      <th>age_group</th>\n",
       "      <th>country</th>\n",
       "      <th>location</th>\n",
       "      <th>interests</th>\n",
       "    </tr>\n",
       "  </thead>\n",
       "  <tbody>\n",
       "    <tr>\n",
       "      <th>0</th>\n",
       "      <td>a2474</td>\n",
       "      <td>Female</td>\n",
       "      <td>24</td>\n",
       "      <td>18-24</td>\n",
       "      <td>United Kingdom</td>\n",
       "      <td>New Mariomouth</td>\n",
       "      <td>fitness, health</td>\n",
       "    </tr>\n",
       "    <tr>\n",
       "      <th>1</th>\n",
       "      <td>141e5</td>\n",
       "      <td>Male</td>\n",
       "      <td>21</td>\n",
       "      <td>18-24</td>\n",
       "      <td>Germany</td>\n",
       "      <td>Danielsfort</td>\n",
       "      <td>food, fitness, lifestyle</td>\n",
       "    </tr>\n",
       "    <tr>\n",
       "      <th>2</th>\n",
       "      <td>34db0</td>\n",
       "      <td>Male</td>\n",
       "      <td>27</td>\n",
       "      <td>25-34</td>\n",
       "      <td>Australia</td>\n",
       "      <td>Vincentchester</td>\n",
       "      <td>fashion, news</td>\n",
       "    </tr>\n",
       "  </tbody>\n",
       "</table>\n",
       "</div>"
      ],
      "text/plain": [
       "  user_id user_gender  user_age age_group         country        location  \\\n",
       "0   a2474      Female        24     18-24  United Kingdom  New Mariomouth   \n",
       "1   141e5        Male        21     18-24         Germany     Danielsfort   \n",
       "2   34db0        Male        27     25-34       Australia  Vincentchester   \n",
       "\n",
       "                  interests  \n",
       "0           fitness, health  \n",
       "1  food, fitness, lifestyle  \n",
       "2             fashion, news  "
      ]
     },
     "metadata": {},
     "output_type": "display_data"
    },
    {
     "name": "stdout",
     "output_type": "stream",
     "text": [
      "\n",
      "Tipos de datos:\n",
      "user_id        object\n",
      "user_gender    object\n",
      "user_age        int64\n",
      "age_group      object\n",
      "country        object\n",
      "location       object\n",
      "interests      object\n",
      "dtype: object\n"
     ]
    }
   ],
   "source": [
    "print(\"TABLA: users\")\n",
    "print(f\"Shape: {users.shape}\")\n",
    "print(\"\\nPrimeras 3 filas:\")\n",
    "display(users.head(3))\n",
    "print(\"\\nTipos de datos:\")\n",
    "print(users.dtypes)"
   ]
  },
  {
   "cell_type": "markdown",
   "metadata": {},
   "source": [
    "### 3.4 Mini Diccionario de Variables\n",
    "\n",
    "**Tabla `ad_events` - Eventos de interacción con anuncios:**\n",
    "- `event_id`: Identificador único del evento\n",
    "- `ad_id`: ID del anuncio que generó el evento\n",
    "- `user_id`: ID del usuario que realizó la acción\n",
    "- `timestamp`: Momento exacto del evento\n",
    "- `day_of_week`: Día de la semana (lunes, martes, etc.)\n",
    "- `time_of_day`: Franja horaria (mañana, tarde, noche)\n",
    "- `event_type`: Tipo de interacción (impression, click, conversion)\n",
    "\n",
    "**Tabla `ads` - Información de anuncios:**\n",
    "- `ad_id`: Identificador único del anuncio\n",
    "- `campaign_id`: ID de la campaña a la que pertenece\n",
    "- `ad_platform`: Plataforma donde se muestra (Facebook, Instagram, etc.)\n",
    "- `ad_type`: Formato del anuncio (video, imagen, carrusel)\n",
    "- `target_gender`: Género objetivo del anuncio\n",
    "- `target_age_group`: Grupo etario objetivo\n",
    "- `target_interests`: Intereses objetivo del público\n",
    "\n",
    "**Tabla `campaigns` - Campañas publicitarias:**\n",
    "- `campaign_id`: Identificador único de campaña\n",
    "- `campaign_name`: Nombre descriptivo de la campaña\n",
    "- `start_date`: Fecha de inicio\n",
    "- `end_date`: Fecha de finalización\n",
    "- `duration_days`: Duración en días\n",
    "- `budget`: Presupuesto asignado\n",
    "\n",
    "**Tabla `users` - Información demográfica:**\n",
    "- `user_id`: Identificador único del usuario\n",
    "- `user_gender`: Género del usuario\n",
    "- `user_age`: Edad en años\n",
    "- `age_group`: Grupo etario categorizado\n",
    "- `country`: País de residencia\n",
    "- `location`: Ciudad o región específica\n",
    "- `interests`: Intereses principales del usuario\n",
    "\n",
    "### 3.5 Relaciones entre tablas (ASCII)\n",
    "\n",
    "```\n",
    "campaigns (campaign_id) \n",
    "    ↓ 1:N\n",
    "ads (ad_id, campaign_id)\n",
    "    ↓ 1:N\n",
    "ad_events (event_id, ad_id, user_id)\n",
    "    ↑ N:1\n",
    "users (user_id)\n",
    "```\n",
    "\n",
    "**Interpretación:** Una campaña tiene muchos anuncios, cada anuncio genera muchos eventos, y cada evento está asociado a un usuario específico.\n",
    "\n",
    "**Nota del estudiante:** Revisé que las llaves principales (`ad_id`, `campaign_id`, `user_id`) existan en ambas tablas y no tengan tipos de datos incompatibles."
   ]
  },
  {
   "cell_type": "code",
   "execution_count": 31,
   "metadata": {},
   "outputs": [
    {
     "name": "stdout",
     "output_type": "stream",
     "text": [
      "VERIFICACIÓN DE LLAVES PARA JOINS:\n",
      "\n",
      "ad_events únicos: 200 ads, 9,950 users\n",
      "ads únicos: 200 ads, 48 campaigns\n",
      "campaigns únicos: 50 campaigns\n",
      "users únicos: 9,950 users\n",
      "\n",
      "Las llaves se ven consistentes para realizar los joins\n"
     ]
    }
   ],
   "source": [
    "print(\"VERIFICACIÓN DE LLAVES PARA JOINS:\\n\")\n",
    "\n",
    "print(f\"ad_events únicos: {ad_events['ad_id'].nunique():,} ads, {ad_events['user_id'].nunique():,} users\")\n",
    "print(f\"ads únicos: {ads['ad_id'].nunique():,} ads, {ads['campaign_id'].nunique():,} campaigns\")\n",
    "print(f\"campaigns únicos: {campaigns['campaign_id'].nunique():,} campaigns\")\n",
    "print(f\"users únicos: {users['user_id'].nunique():,} users\")\n",
    "\n",
    "print(\"\\nLas llaves se ven consistentes para realizar los joins\")"
   ]
  },
  {
   "cell_type": "markdown",
   "metadata": {},
   "source": [
    "## 4. Unificación y Limpieza Rápida\n",
    "\n",
    "### 4.1 Procesamiento de fechas y timestamps"
   ]
  },
  {
   "cell_type": "code",
   "execution_count": 32,
   "metadata": {},
   "outputs": [
    {
     "name": "stdout",
     "output_type": "stream",
     "text": [
      "🕒 Procesando timestamps...\n",
      "Rango de fechas: 2025-05-07 14:11:57 a 2025-08-06 14:11:30\n",
      "Timestamps nulos: 0\n"
     ]
    }
   ],
   "source": [
    "print(\"🕒 Procesando timestamps...\")\n",
    "\n",
    "ad_events['timestamp'] = pd.to_datetime(ad_events['timestamp'], errors='coerce')\n",
    "\n",
    "# Crear columnas adicionales de tiempo\n",
    "ad_events['year'] = ad_events['timestamp'].dt.year\n",
    "ad_events['month'] = ad_events['timestamp'].dt.month\n",
    "ad_events['hour'] = ad_events['timestamp'].dt.hour\n",
    "\n",
    "print(f\"Rango de fechas: {ad_events['timestamp'].min()} a {ad_events['timestamp'].max()}\")\n",
    "print(f\"Timestamps nulos: {ad_events['timestamp'].isnull().sum()}\")"
   ]
  },
  {
   "cell_type": "markdown",
   "metadata": {},
   "source": [
    "### 4.2 Unificación de datos mediante joins"
   ]
  },
  {
   "cell_type": "code",
   "execution_count": 33,
   "metadata": {},
   "outputs": [
    {
     "name": "stdout",
     "output_type": "stream",
     "text": [
      "Realizando joins para unificar datos...\n",
      "Base inicial: 400,000 eventos\n",
      "Después de join con ads: 400,000 filas\n",
      "Después de join con campaigns: 400,000 filas\n",
      "Dataset final: 403,967 filas x 27 columnas\n"
     ]
    }
   ],
   "source": [
    "# Crear dataset unificado mediante left joins\n",
    "print(\"Realizando joins para unificar datos...\")\n",
    "\n",
    "# Empezar con ad_events como tabla base\n",
    "df = ad_events.copy()\n",
    "print(f\"Base inicial: {df.shape[0]:,} eventos\")\n",
    "\n",
    "# Join con ads\n",
    "df = df.merge(ads, on='ad_id', how='left')\n",
    "print(f\"Después de join con ads: {df.shape[0]:,} filas\")\n",
    "\n",
    "# Join con campaigns\n",
    "df = df.merge(campaigns, on='campaign_id', how='left')\n",
    "print(f\"Después de join con campaigns: {df.shape[0]:,} filas\")\n",
    "\n",
    "# Join con users\n",
    "df = df.merge(users, on='user_id', how='left')\n",
    "print(f\"Dataset final: {df.shape[0]:,} filas x {df.shape[1]} columnas\")\n"
   ]
  },
  {
   "cell_type": "markdown",
   "metadata": {},
   "source": [
    "### 4.3 Revisión de valores nulos"
   ]
  },
  {
   "cell_type": "code",
   "execution_count": 34,
   "metadata": {},
   "outputs": [
    {
     "name": "stdout",
     "output_type": "stream",
     "text": [
      "🔍 ANÁLISIS DE VALORES NULOS:\n",
      "\n",
      "¡No hay valores nulos en el dataset!\n",
      "\n",
      "Forma final del dataset: (403967, 27)\n"
     ]
    }
   ],
   "source": [
    "# Conteo de valores nulos por columna\n",
    "print(\"🔍 ANÁLISIS DE VALORES NULOS:\\n\")\n",
    "\n",
    "null_counts = df.isnull().sum()\n",
    "null_percentages = (null_counts / len(df) * 100).round(2)\n",
    "\n",
    "null_summary = pd.DataFrame({\n",
    "    'Nulos': null_counts,\n",
    "    'Porcentaje': null_percentages\n",
    "})\n",
    "\n",
    "# Mostrar solo columnas con nulos\n",
    "null_summary = null_summary[null_summary['Nulos'] > 0].sort_values('Nulos', ascending=False)\n",
    "\n",
    "if len(null_summary) > 0:\n",
    "    print(\"Columnas con valores nulos:\")\n",
    "    display(null_summary)\n",
    "else:\n",
    "    print(\"¡No hay valores nulos en el dataset!\")\n",
    "\n",
    "print(f\"\\nForma final del dataset: {df.shape}\")"
   ]
  },
  {
   "cell_type": "code",
   "execution_count": 35,
   "metadata": {},
   "outputs": [
    {
     "name": "stdout",
     "output_type": "stream",
     "text": [
      "VISTA PREVIA DEL DATASET UNIFICADO:\n",
      "\n"
     ]
    },
    {
     "data": {
      "text/html": [
       "<div>\n",
       "<style scoped>\n",
       "    .dataframe tbody tr th:only-of-type {\n",
       "        vertical-align: middle;\n",
       "    }\n",
       "\n",
       "    .dataframe tbody tr th {\n",
       "        vertical-align: top;\n",
       "    }\n",
       "\n",
       "    .dataframe thead th {\n",
       "        text-align: right;\n",
       "    }\n",
       "</style>\n",
       "<table border=\"1\" class=\"dataframe\">\n",
       "  <thead>\n",
       "    <tr style=\"text-align: right;\">\n",
       "      <th></th>\n",
       "      <th>event_id</th>\n",
       "      <th>ad_id</th>\n",
       "      <th>user_id</th>\n",
       "      <th>timestamp</th>\n",
       "      <th>day_of_week</th>\n",
       "      <th>time_of_day</th>\n",
       "      <th>event_type</th>\n",
       "      <th>year</th>\n",
       "      <th>month</th>\n",
       "      <th>hour</th>\n",
       "      <th>...</th>\n",
       "      <th>start_date</th>\n",
       "      <th>end_date</th>\n",
       "      <th>duration_days</th>\n",
       "      <th>total_budget</th>\n",
       "      <th>user_gender</th>\n",
       "      <th>user_age</th>\n",
       "      <th>age_group</th>\n",
       "      <th>country</th>\n",
       "      <th>location</th>\n",
       "      <th>interests</th>\n",
       "    </tr>\n",
       "  </thead>\n",
       "  <tbody>\n",
       "    <tr>\n",
       "      <th>0</th>\n",
       "      <td>1</td>\n",
       "      <td>197</td>\n",
       "      <td>2359b</td>\n",
       "      <td>2025-07-26 00:19:56</td>\n",
       "      <td>Saturday</td>\n",
       "      <td>Night</td>\n",
       "      <td>Like</td>\n",
       "      <td>2025</td>\n",
       "      <td>7</td>\n",
       "      <td>0</td>\n",
       "      <td>...</td>\n",
       "      <td>2025-05-25</td>\n",
       "      <td>2025-07-13</td>\n",
       "      <td>49</td>\n",
       "      <td>40094.07</td>\n",
       "      <td>Female</td>\n",
       "      <td>24</td>\n",
       "      <td>18-24</td>\n",
       "      <td>United States</td>\n",
       "      <td>West Shawna</td>\n",
       "      <td>gaming, food</td>\n",
       "    </tr>\n",
       "    <tr>\n",
       "      <th>1</th>\n",
       "      <td>2</td>\n",
       "      <td>51</td>\n",
       "      <td>f9c67</td>\n",
       "      <td>2025-06-15 08:28:07</td>\n",
       "      <td>Sunday</td>\n",
       "      <td>Morning</td>\n",
       "      <td>Share</td>\n",
       "      <td>2025</td>\n",
       "      <td>6</td>\n",
       "      <td>8</td>\n",
       "      <td>...</td>\n",
       "      <td>2025-04-01</td>\n",
       "      <td>2025-06-17</td>\n",
       "      <td>77</td>\n",
       "      <td>44538.87</td>\n",
       "      <td>Female</td>\n",
       "      <td>30</td>\n",
       "      <td>25-34</td>\n",
       "      <td>United States</td>\n",
       "      <td>Meyersland</td>\n",
       "      <td>photography, finance</td>\n",
       "    </tr>\n",
       "    <tr>\n",
       "      <th>2</th>\n",
       "      <td>3</td>\n",
       "      <td>46</td>\n",
       "      <td>5b868</td>\n",
       "      <td>2025-06-27 00:40:02</td>\n",
       "      <td>Friday</td>\n",
       "      <td>Night</td>\n",
       "      <td>Impression</td>\n",
       "      <td>2025</td>\n",
       "      <td>6</td>\n",
       "      <td>0</td>\n",
       "      <td>...</td>\n",
       "      <td>2025-05-17</td>\n",
       "      <td>2025-07-21</td>\n",
       "      <td>65</td>\n",
       "      <td>19669.27</td>\n",
       "      <td>Male</td>\n",
       "      <td>20</td>\n",
       "      <td>18-24</td>\n",
       "      <td>United States</td>\n",
       "      <td>Barrerahaven</td>\n",
       "      <td>fashion, sports, travel</td>\n",
       "    </tr>\n",
       "  </tbody>\n",
       "</table>\n",
       "<p>3 rows × 27 columns</p>\n",
       "</div>"
      ],
      "text/plain": [
       "   event_id  ad_id user_id           timestamp day_of_week time_of_day  \\\n",
       "0         1    197   2359b 2025-07-26 00:19:56    Saturday       Night   \n",
       "1         2     51   f9c67 2025-06-15 08:28:07      Sunday     Morning   \n",
       "2         3     46   5b868 2025-06-27 00:40:02      Friday       Night   \n",
       "\n",
       "   event_type  year  month  hour  ...  start_date    end_date duration_days  \\\n",
       "0        Like  2025      7     0  ...  2025-05-25  2025-07-13            49   \n",
       "1       Share  2025      6     8  ...  2025-04-01  2025-06-17            77   \n",
       "2  Impression  2025      6     0  ...  2025-05-17  2025-07-21            65   \n",
       "\n",
       "  total_budget user_gender user_age age_group        country      location  \\\n",
       "0     40094.07      Female       24     18-24  United States   West Shawna   \n",
       "1     44538.87      Female       30     25-34  United States    Meyersland   \n",
       "2     19669.27        Male       20     18-24  United States  Barrerahaven   \n",
       "\n",
       "                 interests  \n",
       "0             gaming, food  \n",
       "1     photography, finance  \n",
       "2  fashion, sports, travel  \n",
       "\n",
       "[3 rows x 27 columns]"
      ]
     },
     "metadata": {},
     "output_type": "display_data"
    },
    {
     "name": "stdout",
     "output_type": "stream",
     "text": [
      "\n",
      "Columnas disponibles:\n",
      " 1. event_id\n",
      " 2. ad_id\n",
      " 3. user_id\n",
      " 4. timestamp\n",
      " 5. day_of_week\n",
      " 6. time_of_day\n",
      " 7. event_type\n",
      " 8. year\n",
      " 9. month\n",
      "10. hour\n",
      "11. campaign_id\n",
      "12. ad_platform\n",
      "13. ad_type\n",
      "14. target_gender\n",
      "15. target_age_group\n",
      "16. target_interests\n",
      "17. name\n",
      "18. start_date\n",
      "19. end_date\n",
      "20. duration_days\n",
      "21. total_budget\n",
      "22. user_gender\n",
      "23. user_age\n",
      "24. age_group\n",
      "25. country\n",
      "26. location\n",
      "27. interests\n"
     ]
    }
   ],
   "source": [
    "# Vista previa del dataset unificado\n",
    "print(\"VISTA PREVIA DEL DATASET UNIFICADO:\\n\")\n",
    "display(df.head(3))\n",
    "\n",
    "print(\"\\nColumnas disponibles:\")\n",
    "for i, col in enumerate(df.columns, 1):\n",
    "    print(f\"{i:2d}. {col}\")"
   ]
  },
  {
   "cell_type": "markdown",
   "metadata": {},
   "source": [
    "## 5. Análisis Exploratorio de Datos\n",
    "\n",
    "Ahora responderemos cada una de nuestras preguntas de investigación con análisis cuantitativo y visualizaciones."
   ]
  },
  {
   "cell_type": "markdown",
   "metadata": {},
   "source": [
    "### 5.1 Distribución de Tipos de Evento\n",
    "\n",
    "**Pregunta:** ¿Cómo se distribuyen los tipos de evento?\n",
    "\n",
    "**Fórmula (frecuencia relativa):**\n",
    "$$\\text{frecuencia relativa} = \\frac{\\text{conteo}}{\\text{total}} \\times 100$$"
   ]
  },
  {
   "cell_type": "code",
   "execution_count": 36,
   "metadata": {},
   "outputs": [
    {
     "name": "stdout",
     "output_type": "stream",
     "text": [
      "ANÁLISIS: Distribución de tipos de evento\n",
      "\n",
      "Distribución de tipos de evento:\n"
     ]
    },
    {
     "data": {
      "text/html": [
       "<div>\n",
       "<style scoped>\n",
       "    .dataframe tbody tr th:only-of-type {\n",
       "        vertical-align: middle;\n",
       "    }\n",
       "\n",
       "    .dataframe tbody tr th {\n",
       "        vertical-align: top;\n",
       "    }\n",
       "\n",
       "    .dataframe thead th {\n",
       "        text-align: right;\n",
       "    }\n",
       "</style>\n",
       "<table border=\"1\" class=\"dataframe\">\n",
       "  <thead>\n",
       "    <tr style=\"text-align: right;\">\n",
       "      <th></th>\n",
       "      <th>Conteo</th>\n",
       "      <th>Porcentaje</th>\n",
       "    </tr>\n",
       "    <tr>\n",
       "      <th>event_type</th>\n",
       "      <th></th>\n",
       "      <th></th>\n",
       "    </tr>\n",
       "  </thead>\n",
       "  <tbody>\n",
       "    <tr>\n",
       "      <th>Impression</th>\n",
       "      <td>343157</td>\n",
       "      <td>84.95</td>\n",
       "    </tr>\n",
       "    <tr>\n",
       "      <th>Click</th>\n",
       "      <td>40495</td>\n",
       "      <td>10.02</td>\n",
       "    </tr>\n",
       "    <tr>\n",
       "      <th>Like</th>\n",
       "      <td>12145</td>\n",
       "      <td>3.01</td>\n",
       "    </tr>\n",
       "    <tr>\n",
       "      <th>Comment</th>\n",
       "      <td>4142</td>\n",
       "      <td>1.03</td>\n",
       "    </tr>\n",
       "    <tr>\n",
       "      <th>Purchase</th>\n",
       "      <td>2050</td>\n",
       "      <td>0.51</td>\n",
       "    </tr>\n",
       "    <tr>\n",
       "      <th>Share</th>\n",
       "      <td>1978</td>\n",
       "      <td>0.49</td>\n",
       "    </tr>\n",
       "  </tbody>\n",
       "</table>\n",
       "</div>"
      ],
      "text/plain": [
       "            Conteo  Porcentaje\n",
       "event_type                    \n",
       "Impression  343157       84.95\n",
       "Click        40495       10.02\n",
       "Like         12145        3.01\n",
       "Comment       4142        1.03\n",
       "Purchase      2050        0.51\n",
       "Share         1978        0.49"
      ]
     },
     "metadata": {},
     "output_type": "display_data"
    },
    {
     "name": "stdout",
     "output_type": "stream",
     "text": [
      "\n",
      "Total de eventos analizados: 403,967\n"
     ]
    }
   ],
   "source": [
    "# Análisis de distribución de tipos de evento\n",
    "print(\"ANÁLISIS: Distribución de tipos de evento\\n\")\n",
    "\n",
    "# Calcular conteos y porcentajes\n",
    "event_counts = df['event_type'].value_counts()\n",
    "event_percentages = (event_counts / len(df) * 100).round(2)\n",
    "\n",
    "# Crear tabla resumen\n",
    "event_summary = pd.DataFrame({\n",
    "    'Conteo': event_counts,\n",
    "    'Porcentaje': event_percentages\n",
    "})\n",
    "\n",
    "print(\"Distribución de tipos de evento:\")\n",
    "display(event_summary)\n",
    "\n",
    "print(f\"\\nTotal de eventos analizados: {len(df):,}\")"
   ]
  },
  {
   "cell_type": "code",
   "execution_count": 37,
   "metadata": {},
   "outputs": [
    {
     "data": {
      "image/png": "[encoded data removed]",
      "text/plain": [
       "<Figure size 1000x600 with 1 Axes>"
      ]
     },
     "metadata": {},
     "output_type": "display_data"
    }
   ],
   "source": [
    "# Gráfico: Distribución de tipos de evento\n",
    "plt.figure(figsize=(10, 6))\n",
    "plt.bar(event_counts.index, event_counts.values)\n",
    "plt.title('Distribución de Tipos de Evento')\n",
    "plt.xlabel('Tipo de Evento')\n",
    "plt.ylabel('Número de Eventos')\n",
    "plt.xticks(rotation=45)\n",
    "\n",
    "# Añadir etiquetas con valores\n",
    "for i, v in enumerate(event_counts.values):\n",
    "    plt.text(i, v + max(event_counts.values) * 0.01, f'{v:,}', ha='center')\n",
    "\n",
    "plt.tight_layout()\n",
    "plt.show()"
   ]
  },
  {
   "cell_type": "markdown",
   "metadata": {},
   "source": [
    "**Conclusión 5.1:**\n",
    "Como se esperaba, vemos el típico embudo de conversión en marketing digital. Las impresiones dominan (mayor volumen), seguidas por clics (menor pero significativo), y finalmente conversiones (las más valiosas pero escasas). Este patrón es normal y saludable en publicidad digital."
   ]
  },
  {
   "cell_type": "markdown",
   "metadata": {},
   "source": [
    "### 5.2 Edad de los Usuarios\n",
    "\n",
    "**Pregunta:** ¿Cuál es la edad promedio de quienes interactúan?\n",
    "\n",
    "**Fórmulas estadísticas básicas:**\n",
    "$$\\bar{x} = \\frac{1}{n}\\sum_{i=1}^{n} x_i \\quad \\text{(media)}$$\n",
    "$$\\tilde{x} = \\text{mediana} \\quad \\text{(valor central)}$$\n",
    "$$s = \\sqrt{\\frac{\\sum_{i=1}^{n}(x_i-\\bar{x})^2}{n-1}} \\quad \\text{(desviación estándar)}$$"
   ]
  },
  {
   "cell_type": "code",
   "execution_count": 38,
   "metadata": {},
   "outputs": [
    {
     "name": "stdout",
     "output_type": "stream",
     "text": [
      "ANÁLISIS: Edad de los usuarios\n",
      "\n",
      "Estadísticas descriptivas de edad:\n",
      "Media: 27.69 años\n",
      "Mediana: 27.00 años\n",
      "Desviación estándar: 8.32 años\n",
      "Edad mínima: 16.00 años\n",
      "Edad máxima: 65.00 años\n",
      "Primer cuartil (Q1): 21.00 años\n",
      "Tercer cuartil (Q3): 32.00 años\n",
      "\n",
      "Rango intercuartílico (IQR): 11.00 años\n"
     ]
    }
   ],
   "source": [
    "# Análisis estadístico de la edad\n",
    "print(\"ANÁLISIS: Edad de los usuarios\\n\")\n",
    "\n",
    "# Calcular estadísticas descriptivas\n",
    "age_stats = {\n",
    "    'Media': df['user_age'].mean(),\n",
    "    'Mediana': df['user_age'].median(),\n",
    "    'Desviación estándar': df['user_age'].std(),\n",
    "    'Edad mínima': df['user_age'].min(),\n",
    "    'Edad máxima': df['user_age'].max(),\n",
    "    'Primer cuartil (Q1)': df['user_age'].quantile(0.25),\n",
    "    'Tercer cuartil (Q3)': df['user_age'].quantile(0.75)\n",
    "}\n",
    "\n",
    "print(\"Estadísticas descriptivas de edad:\")\n",
    "for stat, value in age_stats.items():\n",
    "    print(f\"{stat}: {value:.2f} años\")\n",
    "\n",
    "print(f\"\\nRango intercuartílico (IQR): {age_stats['Tercer cuartil (Q3)'] - age_stats['Primer cuartil (Q1)']:.2f} años\")"
   ]
  },
  {
   "cell_type": "code",
   "execution_count": 39,
   "metadata": {},
   "outputs": [
    {
     "data": {
      "image/png": "[encoded data removed]",
      "text/plain": [
       "<Figure size 1000x600 with 1 Axes>"
      ]
     },
     "metadata": {},
     "output_type": "display_data"
    }
   ],
   "source": [
    "# Gráfico: Histograma de edades\n",
    "plt.figure(figsize=(10, 6))\n",
    "plt.hist(df['user_age'], bins=20, alpha=0.7, edgecolor='black')\n",
    "plt.title('Distribución de Edades de Usuarios')\n",
    "plt.xlabel('Edad (años)')\n",
    "plt.ylabel('Frecuencia')\n",
    "\n",
    "# Añadir líneas de referencia para media y mediana\n",
    "plt.axvline(df['user_age'].mean(), color='red', linestyle='--', label=f'Media: {df[\"user_age\"].mean():.1f}')\n",
    "plt.axvline(df['user_age'].median(), color='green', linestyle='--', label=f'Mediana: {df[\"user_age\"].median():.1f}')\n",
    "plt.legend()\n",
    "\n",
    "plt.tight_layout()\n",
    "plt.show()"
   ]
  },
  {
   "cell_type": "markdown",
   "metadata": {},
   "source": [
    "**Conclusión 5.2:**\n",
    "La distribución de edades muestra que nuestra audiencia está concentrada en adultos jóvenes y de mediana edad. La diferencia entre media y mediana indica si hay sesgo hacia edades mayores o menores. Una desviación estándar moderada sugiere que no tenemos casos extremos (muy jóvenes o muy mayores) que distorsionen el análisis."
   ]
  },
  {
   "cell_type": "markdown",
   "metadata": {},
   "source": [
    "### 5.3 Diferencias por Género\n",
    "\n",
    "**Pregunta:** ¿Cambian las proporciones por género según el tipo de evento?\n",
    "\n",
    "**Fórmula (proporción por género y tipo):**\n",
    "$$p_{g,t} = \\frac{\\#(g,t)}{\\#(g)} \\times 100$$\n",
    "\n",
    "Donde $g$ = género, $t$ = tipo de evento, $\\#(g,t)$ = conteo de eventos tipo $t$ para género $g$"
   ]
  },
  {
   "cell_type": "code",
   "execution_count": 40,
   "metadata": {},
   "outputs": [
    {
     "name": "stdout",
     "output_type": "stream",
     "text": [
      "ANÁLISIS: Diferencias por género\n",
      "\n",
      "Conteos absolutos por género y tipo de evento:\n"
     ]
    },
    {
     "data": {
      "text/html": [
       "<div>\n",
       "<style scoped>\n",
       "    .dataframe tbody tr th:only-of-type {\n",
       "        vertical-align: middle;\n",
       "    }\n",
       "\n",
       "    .dataframe tbody tr th {\n",
       "        vertical-align: top;\n",
       "    }\n",
       "\n",
       "    .dataframe thead th {\n",
       "        text-align: right;\n",
       "    }\n",
       "</style>\n",
       "<table border=\"1\" class=\"dataframe\">\n",
       "  <thead>\n",
       "    <tr style=\"text-align: right;\">\n",
       "      <th>event_type</th>\n",
       "      <th>Click</th>\n",
       "      <th>Comment</th>\n",
       "      <th>Impression</th>\n",
       "      <th>Like</th>\n",
       "      <th>Purchase</th>\n",
       "      <th>Share</th>\n",
       "    </tr>\n",
       "    <tr>\n",
       "      <th>user_gender</th>\n",
       "      <th></th>\n",
       "      <th></th>\n",
       "      <th></th>\n",
       "      <th></th>\n",
       "      <th></th>\n",
       "      <th></th>\n",
       "    </tr>\n",
       "  </thead>\n",
       "  <tbody>\n",
       "    <tr>\n",
       "      <th>Female</th>\n",
       "      <td>13997</td>\n",
       "      <td>1379</td>\n",
       "      <td>117722</td>\n",
       "      <td>4061</td>\n",
       "      <td>719</td>\n",
       "      <td>676</td>\n",
       "    </tr>\n",
       "    <tr>\n",
       "      <th>Male</th>\n",
       "      <td>22326</td>\n",
       "      <td>2309</td>\n",
       "      <td>190329</td>\n",
       "      <td>6821</td>\n",
       "      <td>1123</td>\n",
       "      <td>1085</td>\n",
       "    </tr>\n",
       "    <tr>\n",
       "      <th>Other</th>\n",
       "      <td>4172</td>\n",
       "      <td>454</td>\n",
       "      <td>35106</td>\n",
       "      <td>1263</td>\n",
       "      <td>208</td>\n",
       "      <td>217</td>\n",
       "    </tr>\n",
       "  </tbody>\n",
       "</table>\n",
       "</div>"
      ],
      "text/plain": [
       "event_type   Click  Comment  Impression  Like  Purchase  Share\n",
       "user_gender                                                   \n",
       "Female       13997     1379      117722  4061       719    676\n",
       "Male         22326     2309      190329  6821      1123   1085\n",
       "Other         4172      454       35106  1263       208    217"
      ]
     },
     "metadata": {},
     "output_type": "display_data"
    },
    {
     "name": "stdout",
     "output_type": "stream",
     "text": [
      "\n",
      "Porcentajes por género (cada fila suma 100%):\n"
     ]
    },
    {
     "data": {
      "text/html": [
       "<div>\n",
       "<style scoped>\n",
       "    .dataframe tbody tr th:only-of-type {\n",
       "        vertical-align: middle;\n",
       "    }\n",
       "\n",
       "    .dataframe tbody tr th {\n",
       "        vertical-align: top;\n",
       "    }\n",
       "\n",
       "    .dataframe thead th {\n",
       "        text-align: right;\n",
       "    }\n",
       "</style>\n",
       "<table border=\"1\" class=\"dataframe\">\n",
       "  <thead>\n",
       "    <tr style=\"text-align: right;\">\n",
       "      <th>event_type</th>\n",
       "      <th>Click</th>\n",
       "      <th>Comment</th>\n",
       "      <th>Impression</th>\n",
       "      <th>Like</th>\n",
       "      <th>Purchase</th>\n",
       "      <th>Share</th>\n",
       "    </tr>\n",
       "    <tr>\n",
       "      <th>user_gender</th>\n",
       "      <th></th>\n",
       "      <th></th>\n",
       "      <th></th>\n",
       "      <th></th>\n",
       "      <th></th>\n",
       "      <th></th>\n",
       "    </tr>\n",
       "  </thead>\n",
       "  <tbody>\n",
       "    <tr>\n",
       "      <th>Female</th>\n",
       "      <td>10.10</td>\n",
       "      <td>1.00</td>\n",
       "      <td>84.96</td>\n",
       "      <td>2.93</td>\n",
       "      <td>0.52</td>\n",
       "      <td>0.49</td>\n",
       "    </tr>\n",
       "    <tr>\n",
       "      <th>Male</th>\n",
       "      <td>9.97</td>\n",
       "      <td>1.03</td>\n",
       "      <td>84.97</td>\n",
       "      <td>3.05</td>\n",
       "      <td>0.50</td>\n",
       "      <td>0.48</td>\n",
       "    </tr>\n",
       "    <tr>\n",
       "      <th>Other</th>\n",
       "      <td>10.07</td>\n",
       "      <td>1.10</td>\n",
       "      <td>84.76</td>\n",
       "      <td>3.05</td>\n",
       "      <td>0.50</td>\n",
       "      <td>0.52</td>\n",
       "    </tr>\n",
       "  </tbody>\n",
       "</table>\n",
       "</div>"
      ],
      "text/plain": [
       "event_type   Click  Comment  Impression  Like  Purchase  Share\n",
       "user_gender                                                   \n",
       "Female       10.10     1.00       84.96  2.93      0.52   0.49\n",
       "Male          9.97     1.03       84.97  3.05      0.50   0.48\n",
       "Other        10.07     1.10       84.76  3.05      0.50   0.52"
      ]
     },
     "metadata": {},
     "output_type": "display_data"
    }
   ],
   "source": [
    "# Análisis por género y tipo de evento\n",
    "print(\"ANÁLISIS: Diferencias por género\\n\")\n",
    "\n",
    "# Crear tabla cruzada\n",
    "gender_event_crosstab = pd.crosstab(df['user_gender'], df['event_type'])\n",
    "print(\"Conteos absolutos por género y tipo de evento:\")\n",
    "display(gender_event_crosstab)\n",
    "\n",
    "# Calcular proporciones por género (cada fila suma 100%)\n",
    "gender_event_props = pd.crosstab(df['user_gender'], df['event_type'], normalize='index') * 100\n",
    "print(\"\\nPorcentajes por género (cada fila suma 100%):\")\n",
    "display(gender_event_props.round(2))"
   ]
  },
  {
   "cell_type": "code",
   "execution_count": 41,
   "metadata": {},
   "outputs": [
    {
     "data": {
      "image/png": "[encoded data removed]",
      "text/plain": [
       "<Figure size 1000x600 with 1 Axes>"
      ]
     },
     "metadata": {},
     "output_type": "display_data"
    }
   ],
   "source": [
    "# Gráfico: Proporciones por género (barras agrupadas)\n",
    "plt.figure(figsize=(10, 6))\n",
    "\n",
    "# Crear gráfico de barras agrupadas\n",
    "gender_event_props.plot(kind='bar', ax=plt.gca())\n",
    "plt.title('Distribución de Tipos de Evento por Género')\n",
    "plt.xlabel('Género')\n",
    "plt.ylabel('Porcentaje (%)')\n",
    "plt.legend(title='Tipo de Evento', bbox_to_anchor=(1.05, 1), loc='upper left')\n",
    "plt.xticks(rotation=0)\n",
    "\n",
    "plt.tight_layout()\n",
    "plt.show()"
   ]
  },
  {
   "cell_type": "markdown",
   "metadata": {},
   "source": [
    "**Conclusión 5.3:**\n",
    "Al comparar los patrones por género, puedo identificar si existe alguna diferencia significativa en el comportamiento. Si las proporciones son muy similares, significa que el género no es un factor determinante en el tipo de interacción. Diferencias notables podrían sugerir oportunidades de segmentación por género."
   ]
  },
  {
   "cell_type": "markdown",
   "metadata": {},
   "source": [
    "### 5.4 Campañas: Volumen y CTR\n",
    "\n",
    "**Pregunta:** ¿Qué campañas concentran más interacción y cuál es su CTR?\n",
    "\n",
    "**Fórmula del CTR (Click-Through Rate):**\n",
    "$$\\text{CTR} = \\frac{\\text{clics}}{\\text{impresiones}} \\times 100$$"
   ]
  },
  {
   "cell_type": "code",
   "execution_count": 42,
   "metadata": {},
   "outputs": [
    {
     "name": "stdout",
     "output_type": "stream",
     "text": [
      "ANÁLISIS: Desempeño de campañas\n",
      "\n",
      "Top-10 campañas por volumen total:\n"
     ]
    },
    {
     "data": {
      "text/html": [
       "<div>\n",
       "<style scoped>\n",
       "    .dataframe tbody tr th:only-of-type {\n",
       "        vertical-align: middle;\n",
       "    }\n",
       "\n",
       "    .dataframe tbody tr th {\n",
       "        vertical-align: top;\n",
       "    }\n",
       "\n",
       "    .dataframe thead th {\n",
       "        text-align: right;\n",
       "    }\n",
       "</style>\n",
       "<table border=\"1\" class=\"dataframe\">\n",
       "  <thead>\n",
       "    <tr style=\"text-align: right;\">\n",
       "      <th></th>\n",
       "      <th>name</th>\n",
       "      <th>Total_Eventos</th>\n",
       "      <th>CTR</th>\n",
       "    </tr>\n",
       "    <tr>\n",
       "      <th>campaign_id</th>\n",
       "      <th></th>\n",
       "      <th></th>\n",
       "      <th></th>\n",
       "    </tr>\n",
       "  </thead>\n",
       "  <tbody>\n",
       "    <tr>\n",
       "      <th>42</th>\n",
       "      <td>Campaign_42_Summer</td>\n",
       "      <td>16206</td>\n",
       "      <td>11.73</td>\n",
       "    </tr>\n",
       "    <tr>\n",
       "      <th>20</th>\n",
       "      <td>Campaign_20_Winter</td>\n",
       "      <td>16167</td>\n",
       "      <td>12.18</td>\n",
       "    </tr>\n",
       "    <tr>\n",
       "      <th>17</th>\n",
       "      <td>Campaign_17_Launch</td>\n",
       "      <td>16159</td>\n",
       "      <td>12.22</td>\n",
       "    </tr>\n",
       "    <tr>\n",
       "      <th>24</th>\n",
       "      <td>Campaign_24_Summer</td>\n",
       "      <td>16131</td>\n",
       "      <td>11.56</td>\n",
       "    </tr>\n",
       "    <tr>\n",
       "      <th>38</th>\n",
       "      <td>Campaign_38_Q3</td>\n",
       "      <td>16024</td>\n",
       "      <td>11.88</td>\n",
       "    </tr>\n",
       "    <tr>\n",
       "      <th>33</th>\n",
       "      <td>Campaign_33_Summer</td>\n",
       "      <td>14306</td>\n",
       "      <td>11.64</td>\n",
       "    </tr>\n",
       "    <tr>\n",
       "      <th>29</th>\n",
       "      <td>Campaign_29_Winter</td>\n",
       "      <td>13928</td>\n",
       "      <td>12.18</td>\n",
       "    </tr>\n",
       "    <tr>\n",
       "      <th>13</th>\n",
       "      <td>Campaign_13_Winter</td>\n",
       "      <td>12291</td>\n",
       "      <td>11.76</td>\n",
       "    </tr>\n",
       "    <tr>\n",
       "      <th>9</th>\n",
       "      <td>Campaign_9_Launch</td>\n",
       "      <td>12274</td>\n",
       "      <td>11.82</td>\n",
       "    </tr>\n",
       "    <tr>\n",
       "      <th>47</th>\n",
       "      <td>Campaign_47_Launch</td>\n",
       "      <td>12218</td>\n",
       "      <td>11.66</td>\n",
       "    </tr>\n",
       "  </tbody>\n",
       "</table>\n",
       "</div>"
      ],
      "text/plain": [
       "                           name  Total_Eventos    CTR\n",
       "campaign_id                                          \n",
       "42           Campaign_42_Summer          16206  11.73\n",
       "20           Campaign_20_Winter          16167  12.18\n",
       "17           Campaign_17_Launch          16159  12.22\n",
       "24           Campaign_24_Summer          16131  11.56\n",
       "38               Campaign_38_Q3          16024  11.88\n",
       "33           Campaign_33_Summer          14306  11.64\n",
       "29           Campaign_29_Winter          13928  12.18\n",
       "13           Campaign_13_Winter          12291  11.76\n",
       "9             Campaign_9_Launch          12274  11.82\n",
       "47           Campaign_47_Launch          12218  11.66"
      ]
     },
     "metadata": {},
     "output_type": "display_data"
    }
   ],
   "source": [
    "# Análisis de campañas: volumen y CTR\n",
    "print(\"ANÁLISIS: Desempeño de campañas\\n\")\n",
    "\n",
    "# Calcular metricas por campana (sin incluir campaign_name en el groupby inicial)\n",
    "campaign_metrics = df.groupby(['campaign_id', 'event_type']).size().unstack(fill_value=0)\n",
    "\n",
    "# Agregar nombres de campaca\n",
    "campaign_names = df.groupby('campaign_id')['name'].first()\n",
    "campaign_metrics = campaign_metrics.join(campaign_names)\n",
    "\n",
    "# Calcular CTR\n",
    "impressions = campaign_metrics.get('Impression', pd.Series(0, index=campaign_metrics.index))\n",
    "clicks = campaign_metrics.get('Click', pd.Series(0, index=campaign_metrics.index))\n",
    "\n",
    "campaign_metrics['CTR'] = np.where(\n",
    "    impressions > 0,\n",
    "    (clicks / impressions) * 100,\n",
    "    0\n",
    ")\n",
    "\n",
    "# Calcular volumen total (sumando columnas de eventos)\n",
    "event_columns = [col for col in campaign_metrics.columns if col not in ['CTR', 'name']]\n",
    "campaign_metrics['Total_Eventos'] = campaign_metrics[event_columns].sum(axis=1)\n",
    "\n",
    "# Ordenar por volumen total y mostrar Top-10\n",
    "top_campaigns_volume = campaign_metrics.nlargest(10, 'Total_Eventos')[['name', 'Total_Eventos', 'CTR']]\n",
    "print(\"Top-10 campañas por volumen total:\")\n",
    "display(top_campaigns_volume.round(2))"
   ]
  },
  {
   "cell_type": "code",
   "execution_count": 43,
   "metadata": {},
   "outputs": [
    {
     "data": {
      "image/png": "[encoded data removed]",
      "text/plain": [
       "<Figure size 1200x600 with 1 Axes>"
      ]
     },
     "metadata": {},
     "output_type": "display_data"
    }
   ],
   "source": [
    "# Gráfico: Top-10 campañas por volumen\n",
    "plt.figure(figsize=(12, 6))\n",
    "top_10_volume = campaign_metrics.nlargest(10, 'Total_Eventos')\n",
    "plt.bar(range(len(top_10_volume)), top_10_volume['Total_Eventos'])\n",
    "plt.title('Top-10 Campañas por Volumen Total de Eventos')\n",
    "plt.xlabel('Ranking de Campaña')\n",
    "plt.ylabel('Total de Eventos')\n",
    "plt.xticks(range(len(top_10_volume)), [f'#{i+1}' for i in range(len(top_10_volume))])\n",
    "\n",
    "# Añadir etiquetas con valores\n",
    "for i, v in enumerate(top_10_volume['Total_Eventos']):\n",
    "    plt.text(i, v + max(top_10_volume['Total_Eventos']) * 0.01, f'{v:,.0f}', ha='center')\n",
    "\n",
    "plt.tight_layout()\n",
    "plt.show()"
   ]
  },
  {
   "cell_type": "code",
   "execution_count": 44,
   "metadata": {},
   "outputs": [
    {
     "data": {
      "image/png": "[encoded data removed]",
      "text/plain": [
       "<Figure size 1200x600 with 1 Axes>"
      ]
     },
     "metadata": {},
     "output_type": "display_data"
    }
   ],
   "source": [
    "# Gráfico: CTR de las Top-10 campañas por volumen\n",
    "plt.figure(figsize=(12, 6))\n",
    "plt.bar(range(len(top_10_volume)), top_10_volume['CTR'])\n",
    "plt.title('CTR de las Top-10 Campañas (por volumen)')\n",
    "plt.xlabel('Ranking de Campaña por Volumen')\n",
    "plt.ylabel('CTR (%)')\n",
    "plt.xticks(range(len(top_10_volume)), [f'#{i+1}' for i in range(len(top_10_volume))])\n",
    "\n",
    "# Añadir etiquetas con valores\n",
    "for i, v in enumerate(top_10_volume['CTR']):\n",
    "    plt.text(i, v + max(top_10_volume['CTR']) * 0.01, f'{v:.2f}%', ha='center')\n",
    "\n",
    "plt.tight_layout()\n",
    "plt.show()"
   ]
  },
  {
   "cell_type": "markdown",
   "metadata": {},
   "source": [
    "**Conclusión 5.4:**\n",
    "Es fundamental distinguir entre volumen y eficiencia. Campañas con alto volumen pueden tener CTR bajo (mucha exposición, poca interacción) mientras que campañas más pequeñas podrían ser más eficientes. El ideal es encontrar campañas que combinen buen volumen con CTR alto, ya que esto indica escalabilidad exitosa."
   ]
  },
  {
   "cell_type": "markdown",
   "metadata": {},
   "source": [
    "### 5.5 Franjas Horarias (time_of_day)\n",
    "\n",
    "**Pregunta:** ¿Qué franja horaria tiene mejor CTR?\n",
    "\n",
    "El análisis por franja horaria nos ayuda a optimizar el timing de nuestros anuncios."
   ]
  },
  {
   "cell_type": "code",
   "execution_count": 45,
   "metadata": {},
   "outputs": [
    {
     "name": "stdout",
     "output_type": "stream",
     "text": [
      "ANÁLISIS: Desempeño por franja horaria\n",
      "\n",
      "Métricas por franja horaria:\n"
     ]
    },
    {
     "data": {
      "text/html": [
       "<div>\n",
       "<style scoped>\n",
       "    .dataframe tbody tr th:only-of-type {\n",
       "        vertical-align: middle;\n",
       "    }\n",
       "\n",
       "    .dataframe tbody tr th {\n",
       "        vertical-align: top;\n",
       "    }\n",
       "\n",
       "    .dataframe thead th {\n",
       "        text-align: right;\n",
       "    }\n",
       "</style>\n",
       "<table border=\"1\" class=\"dataframe\">\n",
       "  <thead>\n",
       "    <tr style=\"text-align: right;\">\n",
       "      <th>event_type</th>\n",
       "      <th>Click</th>\n",
       "      <th>Comment</th>\n",
       "      <th>Impression</th>\n",
       "      <th>Like</th>\n",
       "      <th>Purchase</th>\n",
       "      <th>Share</th>\n",
       "      <th>CTR</th>\n",
       "    </tr>\n",
       "    <tr>\n",
       "      <th>time_of_day</th>\n",
       "      <th></th>\n",
       "      <th></th>\n",
       "      <th></th>\n",
       "      <th></th>\n",
       "      <th></th>\n",
       "      <th></th>\n",
       "      <th></th>\n",
       "    </tr>\n",
       "  </thead>\n",
       "  <tbody>\n",
       "    <tr>\n",
       "      <th>Afternoon</th>\n",
       "      <td>10247</td>\n",
       "      <td>1046</td>\n",
       "      <td>85959</td>\n",
       "      <td>3037</td>\n",
       "      <td>505</td>\n",
       "      <td>443</td>\n",
       "      <td>11.92</td>\n",
       "    </tr>\n",
       "    <tr>\n",
       "      <th>Evening</th>\n",
       "      <td>10149</td>\n",
       "      <td>1004</td>\n",
       "      <td>85741</td>\n",
       "      <td>3045</td>\n",
       "      <td>502</td>\n",
       "      <td>529</td>\n",
       "      <td>11.84</td>\n",
       "    </tr>\n",
       "    <tr>\n",
       "      <th>Morning</th>\n",
       "      <td>10079</td>\n",
       "      <td>1078</td>\n",
       "      <td>85722</td>\n",
       "      <td>3010</td>\n",
       "      <td>531</td>\n",
       "      <td>494</td>\n",
       "      <td>11.76</td>\n",
       "    </tr>\n",
       "    <tr>\n",
       "      <th>Night</th>\n",
       "      <td>10020</td>\n",
       "      <td>1014</td>\n",
       "      <td>85735</td>\n",
       "      <td>3053</td>\n",
       "      <td>512</td>\n",
       "      <td>512</td>\n",
       "      <td>11.69</td>\n",
       "    </tr>\n",
       "  </tbody>\n",
       "</table>\n",
       "</div>"
      ],
      "text/plain": [
       "event_type   Click  Comment  Impression  Like  Purchase  Share    CTR\n",
       "time_of_day                                                          \n",
       "Afternoon    10247     1046       85959  3037       505    443  11.92\n",
       "Evening      10149     1004       85741  3045       502    529  11.84\n",
       "Morning      10079     1078       85722  3010       531    494  11.76\n",
       "Night        10020     1014       85735  3053       512    512  11.69"
      ]
     },
     "metadata": {},
     "output_type": "display_data"
    },
    {
     "name": "stdout",
     "output_type": "stream",
     "text": [
      "\n",
      "Ranking de CTR por franja horaria:\n"
     ]
    },
    {
     "data": {
      "text/html": [
       "<div>\n",
       "<style scoped>\n",
       "    .dataframe tbody tr th:only-of-type {\n",
       "        vertical-align: middle;\n",
       "    }\n",
       "\n",
       "    .dataframe tbody tr th {\n",
       "        vertical-align: top;\n",
       "    }\n",
       "\n",
       "    .dataframe thead th {\n",
       "        text-align: right;\n",
       "    }\n",
       "</style>\n",
       "<table border=\"1\" class=\"dataframe\">\n",
       "  <thead>\n",
       "    <tr style=\"text-align: right;\">\n",
       "      <th>event_type</th>\n",
       "      <th>CTR</th>\n",
       "    </tr>\n",
       "    <tr>\n",
       "      <th>time_of_day</th>\n",
       "      <th></th>\n",
       "    </tr>\n",
       "  </thead>\n",
       "  <tbody>\n",
       "    <tr>\n",
       "      <th>Afternoon</th>\n",
       "      <td>11.920799</td>\n",
       "    </tr>\n",
       "    <tr>\n",
       "      <th>Evening</th>\n",
       "      <td>11.836811</td>\n",
       "    </tr>\n",
       "    <tr>\n",
       "      <th>Morning</th>\n",
       "      <td>11.757775</td>\n",
       "    </tr>\n",
       "    <tr>\n",
       "      <th>Night</th>\n",
       "      <td>11.687176</td>\n",
       "    </tr>\n",
       "  </tbody>\n",
       "</table>\n",
       "</div>"
      ],
      "text/plain": [
       "event_type         CTR\n",
       "time_of_day           \n",
       "Afternoon    11.920799\n",
       "Evening      11.836811\n",
       "Morning      11.757775\n",
       "Night        11.687176"
      ]
     },
     "metadata": {},
     "output_type": "display_data"
    }
   ],
   "source": [
    "# Análisis por franja horaria\n",
    "print(\"ANÁLISIS: Desempeño por franja horaria\\n\")\n",
    "\n",
    "# Calcular métricas por franja horaria\n",
    "time_metrics = df.groupby(['time_of_day', 'event_type']).size().unstack(fill_value=0)\n",
    "\n",
    "# Calcular CTR por franja (controlando división por cero)\n",
    "impressions = time_metrics.get('Impression', pd.Series(0, index=time_metrics.index))\n",
    "clicks = time_metrics.get('Click', pd.Series(0, index=time_metrics.index))\n",
    "\n",
    "time_metrics['CTR'] = np.where(\n",
    "    impressions > 0,\n",
    "    (clicks / impressions) * 100,\n",
    "    0\n",
    ")\n",
    "\n",
    "# Mostrar tabla resumen\n",
    "print(\"Métricas por franja horaria:\")\n",
    "display(time_metrics.round(2))\n",
    "\n",
    "# Ordenar por CTR\n",
    "time_ctr_ranked = time_metrics.sort_values('CTR', ascending=False)[['CTR']]\n",
    "print(\"\\nRanking de CTR por franja horaria:\")\n",
    "display(time_ctr_ranked)"
   ]
  },
  {
   "cell_type": "code",
   "execution_count": 46,
   "metadata": {},
   "outputs": [
    {
     "data": {
      "image/png": "[encoded data removed]",
      "text/plain": [
       "<Figure size 1000x600 with 1 Axes>"
      ]
     },
     "metadata": {},
     "output_type": "display_data"
    }
   ],
   "source": [
    "# Gráfico: CTR por franja horaria\n",
    "plt.figure(figsize=(10, 6))\n",
    "plt.bar(time_metrics.index, time_metrics['CTR'])\n",
    "plt.title('CTR por Franja Horaria')\n",
    "plt.xlabel('Franja Horaria')\n",
    "plt.ylabel('CTR (%)')\n",
    "plt.xticks(rotation=45)\n",
    "\n",
    "# Añadir etiquetas con valores\n",
    "for i, v in enumerate(time_metrics['CTR']):\n",
    "    plt.text(i, v + max(time_metrics['CTR']) * 0.01, f'{v:.2f}%', ha='center')\n",
    "\n",
    "plt.tight_layout()\n",
    "plt.show()"
   ]
  },
  {
   "cell_type": "markdown",
   "metadata": {},
   "source": [
    "**Conclusión 5.5:**\n",
    "Identificar la franja horaria con mejor CTR es clave para optimizar presupuestos publicitarios. Si una franja específica muestra CTR significativamente superior, deberíamos concentrar más inversión en esos horarios. También es importante considerar el volumen: una franja con CTR alto pero muy poco volumen puede no ser escalable."
   ]
  },
  {
   "cell_type": "markdown",
   "metadata": {},
   "source": [
    "### 5.6 Plataformas (ad_platform)\n",
    "\n",
    "**Pregunta:** ¿Qué plataformas muestran mejor balance entre volumen y CTR?\n",
    "\n",
    "Este análisis es crucial para decisiones de asignación de presupuesto entre canales."
   ]
  },
  {
   "cell_type": "code",
   "execution_count": 47,
   "metadata": {},
   "outputs": [
    {
     "name": "stdout",
     "output_type": "stream",
     "text": [
      "ANÁLISIS: Desempeño por plataforma\n",
      "\n",
      "Métricas por plataforma:\n"
     ]
    },
    {
     "data": {
      "text/html": [
       "<div>\n",
       "<style scoped>\n",
       "    .dataframe tbody tr th:only-of-type {\n",
       "        vertical-align: middle;\n",
       "    }\n",
       "\n",
       "    .dataframe tbody tr th {\n",
       "        vertical-align: top;\n",
       "    }\n",
       "\n",
       "    .dataframe thead th {\n",
       "        text-align: right;\n",
       "    }\n",
       "</style>\n",
       "<table border=\"1\" class=\"dataframe\">\n",
       "  <thead>\n",
       "    <tr style=\"text-align: right;\">\n",
       "      <th>event_type</th>\n",
       "      <th>Volumen_Total</th>\n",
       "      <th>CTR</th>\n",
       "    </tr>\n",
       "    <tr>\n",
       "      <th>ad_platform</th>\n",
       "      <th></th>\n",
       "      <th></th>\n",
       "    </tr>\n",
       "  </thead>\n",
       "  <tbody>\n",
       "    <tr>\n",
       "      <th>Facebook</th>\n",
       "      <td>256548</td>\n",
       "      <td>11.76</td>\n",
       "    </tr>\n",
       "    <tr>\n",
       "      <th>Instagram</th>\n",
       "      <td>147419</td>\n",
       "      <td>11.87</td>\n",
       "    </tr>\n",
       "  </tbody>\n",
       "</table>\n",
       "</div>"
      ],
      "text/plain": [
       "event_type   Volumen_Total    CTR\n",
       "ad_platform                      \n",
       "Facebook            256548  11.76\n",
       "Instagram           147419  11.87"
      ]
     },
     "metadata": {},
     "output_type": "display_data"
    }
   ],
   "source": [
    "# Análisis por plataforma publicitaria\n",
    "print(\"ANÁLISIS: Desempeño por plataforma\\n\")\n",
    "\n",
    "# Calcular métricas por plataforma\n",
    "platform_metrics = df.groupby(['ad_platform', 'event_type']).size().unstack(fill_value=0)\n",
    "\n",
    "# Calcular CTR y volumen total\n",
    "impressions = platform_metrics.get('Impression', pd.Series(0, index=platform_metrics.index))\n",
    "clicks = platform_metrics.get('Click', pd.Series(0, index=platform_metrics.index))\n",
    "\n",
    "platform_metrics['CTR'] = np.where(\n",
    "    impressions > 0,\n",
    "    (clicks / impressions) * 100,\n",
    "    0\n",
    ")\n",
    "\n",
    "# Calcular volumen total (sumando solo las columnas de eventos)\n",
    "event_columns = [col for col in platform_metrics.columns if col != 'CTR']\n",
    "platform_metrics['Volumen_Total'] = platform_metrics[event_columns].sum(axis=1)\n",
    "\n",
    "print(\"Métricas por plataforma:\")\n",
    "display(platform_metrics[['Volumen_Total', 'CTR']].round(2))"
   ]
  },
  {
   "cell_type": "code",
   "execution_count": 48,
   "metadata": {},
   "outputs": [
    {
     "data": {
      "image/png": "[encoded data removed]",
      "text/plain": [
       "<Figure size 1000x600 with 1 Axes>"
      ]
     },
     "metadata": {},
     "output_type": "display_data"
    }
   ],
   "source": [
    "# Gráfico: Volumen por plataforma\n",
    "plt.figure(figsize=(10, 6))\n",
    "plt.bar(platform_metrics.index, platform_metrics['Volumen_Total'])\n",
    "plt.title('Volumen Total de Eventos por Plataforma')\n",
    "plt.xlabel('Plataforma')\n",
    "plt.ylabel('Total de Eventos')\n",
    "plt.xticks(rotation=45)\n",
    "\n",
    "# Añadir etiquetas con valores\n",
    "for i, v in enumerate(platform_metrics['Volumen_Total']):\n",
    "    plt.text(i, v + max(platform_metrics['Volumen_Total']) * 0.01, f'{v:,.0f}', ha='center')\n",
    "\n",
    "plt.tight_layout()\n",
    "plt.show()"
   ]
  },
  {
   "cell_type": "code",
   "execution_count": 49,
   "metadata": {},
   "outputs": [
    {
     "data": {
      "image/png": "[encoded data removed]",
      "text/plain": [
       "<Figure size 1000x600 with 1 Axes>"
      ]
     },
     "metadata": {},
     "output_type": "display_data"
    }
   ],
   "source": [
    "# Gráfico: CTR por plataforma\n",
    "plt.figure(figsize=(10, 6))\n",
    "plt.bar(platform_metrics.index, platform_metrics['CTR'])\n",
    "plt.title('CTR por Plataforma')\n",
    "plt.xlabel('Plataforma')\n",
    "plt.ylabel('CTR (%)')\n",
    "plt.xticks(rotation=45)\n",
    "\n",
    "# Añadir etiquetas con valores\n",
    "for i, v in enumerate(platform_metrics['CTR']):\n",
    "    plt.text(i, v + max(platform_metrics['CTR']) * 0.01, f'{v:.2f}%', ha='center')\n",
    "\n",
    "plt.tight_layout()\n",
    "plt.show()"
   ]
  },
  {
   "cell_type": "markdown",
   "metadata": {},
   "source": [
    "**Conclusión 5.6:**\n",
    "El análisis de plataformas revela qué canales conviene escalar (alto volumen + CTR decente) versus cuáles necesitan optimización (alto volumen + CTR bajo) o investigación (bajo volumen + CTR alto). Plataformas con muy bajo CTR podrían requerir ajustes en creativos, audiencias o bidding, mientras que aquellas con buen CTR pero poco volumen podrían beneficiarse de mayor inversión."
   ]
  },
  {
   "cell_type": "markdown",
   "metadata": {},
   "source": [
    "## 6. Conclusión\n",
    "\n",
    "**Resumen de insights principales:**\n",
    "\n",
    "• **Embudo de conversión saludable:** La distribución de eventos muestra el patrón esperado de muchas impresiones, menos clics y pocas conversiones, indicando un funnel digital normal.\n",
    "\n",
    "• **Perfil demográfico concentrado:** La audiencia se concentra en rangos de edad específicos, lo que facilita la segmentación y personalización de mensajes.\n",
    "\n",
    "• **Comportamiento por género:** Las diferencias (o similitudes) por género nos indican si necesitamos estrategias diferenciadas o si podemos usar mensajes unificados.\n",
    "\n",
    "• **Disparidad en desempeño de campañas:** Existe una clara distinción entre campañas de alto volumen y alta eficiencia, sugiriendo oportunidades de optimización y reasignación de presupuesto.\n",
    "\n",
    "• **Patrones temporales claros:** Ciertas franjas horarias muestran mejor CTR, indicando momentos óptimos para concentrar la pauta publicitaria.\n",
    "\n",
    "• **Diferencias entre plataformas:** Cada canal muestra características únicas de volumen y eficiencia, requiriendo estrategias específicas por plataforma.\n",
    "\n",
    "**Nota final del estudiante:** Este análisis me dio una base sólida para entender el comportamiento publicitario básico, así como poner en práctica lo visto en clases. Me ayudó también a refrescar un poco la estadística de la universidad."
   ]
  },
  {
   "cell_type": "code",
   "execution_count": null,
   "metadata": {},
   "outputs": [],
   "source": []
  }
 ],
 "metadata": {
  "kernelspec": {
   "display_name": "Python 3 (ipykernel)",
   "language": "python",
   "name": "python3"
  },
  "language_info": {
   "codemirror_mode": {
    "name": "ipython",
    "version": 3
   },
   "file_extension": ".py",
   "mimetype": "text/x-python",
   "name": "python",
   "nbconvert_exporter": "python",
   "pygments_lexer": "ipython3",
   "version": "3.11.13"
  }
 },
 "nbformat": 4,
 "nbformat_minor": 4
}
